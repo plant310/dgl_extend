{
 "cells": [
  {
   "cell_type": "code",
   "execution_count": null,
   "metadata": {},
   "outputs": [],
   "source": [
    "!python test_gcn.py --dataset pubmed --hd 256"
   ]
  },
  {
   "cell_type": "code",
   "execution_count": 1,
   "metadata": {},
   "outputs": [
    {
     "name": "stdout",
     "output_type": "stream",
     "text": [
      "python: can't open file 'test_sage_gcn.py': [Errno 2] No such file or directory\n"
     ]
    }
   ],
   "source": [
    "!python test_sage_gcn.py --hd 256"
   ]
  },
  {
   "cell_type": "code",
   "execution_count": null,
   "metadata": {},
   "outputs": [],
   "source": [
    "!python test_sage_pooling.py --hd 256"
   ]
  },
  {
   "cell_type": "code",
   "execution_count": null,
   "metadata": {},
   "outputs": [],
   "source": [
    "!python test_full_sage_gcn.py --dataset pubmed --hd 256"
   ]
  },
  {
   "cell_type": "code",
   "execution_count": null,
   "metadata": {},
   "outputs": [],
   "source": [
    "!python test_full_sage_pool.py --dataset pubmed --hd 16"
   ]
  },
  {
   "cell_type": "code",
   "execution_count": null,
   "metadata": {},
   "outputs": [],
   "source": [
    "!cd build/\n",
    "!make -j8\n",
    "!cd ../python\n",
    "!python setup.py install --user"
   ]
  },
  {
   "cell_type": "code",
   "execution_count": 3,
   "metadata": {},
   "outputs": [
    {
     "name": "stdout",
     "output_type": "stream",
     "text": [
      "Training in mixed mode.\n",
      "Loading data\n",
      "Training...\n",
      "Epoch 00000 | Loss 2.5386 | Accuracy 0.5239\n",
      "Epoch 00001 | Loss 1.8344 | Accuracy 0.5578\n",
      "Epoch 00002 | Loss 1.6549 | Accuracy 0.5754\n",
      "Epoch 00003 | Loss 1.5717 | Accuracy 0.5854\n",
      "Epoch 00004 | Loss 1.5183 | Accuracy 0.5889\n",
      "Epoch 00005 | Loss 1.4787 | Accuracy 0.5959\n",
      "Epoch 00006 | Loss 1.4515 | Accuracy 0.6006\n",
      "Epoch 00007 | Loss 1.4299 | Accuracy 0.6010\n",
      "Epoch 00008 | Loss 1.4146 | Accuracy 0.6046\n",
      "Epoch 00009 | Loss 1.4010 | Accuracy 0.6066\n",
      "Average Time(s) 9.3531\n",
      "Testing...\n",
      "100%|███████████████████████████████████████████| 42/42 [00:01<00:00, 36.31it/s]\n",
      "100%|███████████████████████████████████████████| 42/42 [00:01<00:00, 39.83it/s]\n",
      "100%|███████████████████████████████████████████| 42/42 [00:01<00:00, 38.79it/s]\n",
      "Test Accuracy 0.5446\n"
     ]
    }
   ],
   "source": [
    "!python test_sage.py --hd 256"
   ]
  }
 ],
 "metadata": {
  "kernelspec": {
   "display_name": "Python 3.8.13 ('pfx-dgl')",
   "language": "python",
   "name": "python3"
  },
  "language_info": {
   "codemirror_mode": {
    "name": "ipython",
    "version": 3
   },
   "file_extension": ".py",
   "mimetype": "text/x-python",
   "name": "python",
   "nbconvert_exporter": "python",
   "pygments_lexer": "ipython3",
   "version": "3.8.13"
  },
  "orig_nbformat": 4,
  "vscode": {
   "interpreter": {
    "hash": "4049ae82df3402959629fe32d1e9e01e48f800fd2053430392cc22e4f79452bc"
   }
  }
 },
 "nbformat": 4,
 "nbformat_minor": 2
}
