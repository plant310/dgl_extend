{
 "cells": [
  {
   "cell_type": "code",
   "execution_count": null,
   "metadata": {},
   "outputs": [],
   "source": [
    "import dgl\n",
    "import dgl.nn as dglnn\n",
    "import torch\n",
    "import torch.nn as nn\n",
    "import torch.nn.functional as F\n",
    "import time\n",
    "import networkx as nx\n",
    "import scipy.sparse\n",
    "import numpy as np\n",
    "import time"
   ]
  },
  {
   "cell_type": "code",
   "execution_count": null,
   "metadata": {},
   "outputs": [],
   "source": [
    "#dataset = dgl.data.SSTDataset()\n",
    "dataset = dgl.data.CiteseerGraphDataset()\n",
    "#dataset = dgl.data.PubmedGraphDataset()\n",
    "#dataset = dgl.data.CoraFullDataset()\n",
    "#dataset = dgl.data.RedditDataset()\n",
    "#dataset = dgl.data.rdf.AMDataset()\n",
    "\n",
    "print(dataset[0])\n",
    "g = dataset[0]\n",
    "# print(g.nodes())\n",
    "# N = g.nodes().numpy()\n",
    "N = g.nodes()\n",
    "print(N.shape)\n",
    "\n",
    "hub_buffer = []\n",
    "l_islands = []\n",
    "\n",
    "TH_tmp = 10"
   ]
  },
  {
   "cell_type": "code",
   "execution_count": 6,
   "metadata": {},
   "outputs": [],
   "source": [
    "def detect_hub(N, TH_tmp, hub_huffer):\n",
    "    print(len(N))\n",
    "    N = [i for i in N if i not in l_islands]\n",
    "    hub_buffer = [i for i in N if g.out_degrees(i) >= TH_tmp]\n",
    "    N = [i for i in N if i not in hub_buffer]\n",
    "    # for id in N:\n",
    "    #     # print(g.out_degrees(id))\n",
    "    #     if id in l_islands:\n",
    "    #         N.remove(id)\n",
    "    #     elif g.out_degrees(id) >= TH_tmp:\n",
    "    #         N.remove(id)\n",
    "    #         hub_buffer.append(id)\n",
    "    print(len(N))\n",
    "    print(len(hub_buffer))\n",
    "    return hub_buffer"
   ]
  },
  {
   "cell_type": "code",
   "execution_count": null,
   "metadata": {},
   "outputs": [],
   "source": [
    "start = time.time()\n",
    "hub_buffer = detect_hub(N, TH_tmp, hub_buffer)\n",
    "# print(hub_buffer)\n",
    "print(\"Time:{}\".format(time.time()-start))"
   ]
  },
  {
   "cell_type": "code",
   "execution_count": 9,
   "metadata": {},
   "outputs": [],
   "source": [
    "def task_assign(hub_buffer, task):\n",
    "    for id in range(len(hub_buffer)):\n",
    "        # neighbors = g.successors(hub_buffer[id]).numpy()\n",
    "        neighbors = g.successors(hub_buffer[id])\n",
    "        # task.append({\"hub_id\":hub_buffer[id], \"neighbors\": neighbor})  \n",
    "        for n in neighbors:\n",
    "            task.append((hub_buffer[id], n)) \n",
    "    return task"
   ]
  },
  {
   "cell_type": "code",
   "execution_count": 16,
   "metadata": {},
   "outputs": [
    {
     "name": "stdout",
     "output_type": "stream",
     "text": [
      "Time:0.047646522521972656\n"
     ]
    }
   ],
   "source": [
    "start = time.time()\n",
    "task = []\n",
    "task = task_assign(hub_buffer, task)\n",
    "print(\"Time:{}\".format(time.time()-start))"
   ]
  },
  {
   "cell_type": "code",
   "execution_count": 14,
   "metadata": {},
   "outputs": [],
   "source": [
    "def TP_BFS(task, TH, c_max):\n",
    "    v_global = []\n",
    "    for i in range(len(task)):\n",
    "        v_local = []\n",
    "        h_local = []\n",
    "        v_local.append(task[i][1])\n",
    "        h_local.append(task[i][0])\n",
    "        query = 0\n",
    "        count = 1\n",
    "        exit_flag = False\n",
    "\n",
    "        while query != count:  # 如果存在未被访问的节点\n",
    "            node = v_local[query]\n",
    "            # print(node)\n",
    "            # neighbors = g.successors(node).numpy()\n",
    "            neighbors = g.successors(node)\n",
    "            for n in neighbors:\n",
    "                if g.out_degrees(n) < TH:     # 是否是hub node\n",
    "                    if n in v_local:          # n 是否已经被engine p本地访问过\n",
    "                        continue\n",
    "                    elif n not in v_global:   # n 是否已经被其他engines访问过\n",
    "                        count += 1\n",
    "                        v_local.append(n)\n",
    "                        v_global.append(n)\n",
    "                        # 如果超过一个岛的最大节点数\n",
    "                        if len(v_local) > c_max:\n",
    "                            exit_flag = True\n",
    "                            break \n",
    "                    else:\n",
    "                        v_global = [i for i in v_global if i not in v_local]\n",
    "                        exit_flag = True\n",
    "                        break\n",
    "                else:\n",
    "                    h_local.append(n)\n",
    "            query += 1 \n",
    "            if exit_flag == True:\n",
    "                break\n",
    "\n",
    "        l_islands.append((v_local, h_local))\n"
   ]
  },
  {
   "cell_type": "code",
   "execution_count": 17,
   "metadata": {},
   "outputs": [
    {
     "name": "stdout",
     "output_type": "stream",
     "text": [
      "Time:99.47373247146606\n"
     ]
    }
   ],
   "source": [
    "TH = 10\n",
    "\n",
    "c_max = 100\n",
    "start = time.time()\n",
    "TP_BFS(task, TH, c_max)\n",
    "print(\"Time:{}\".format(time.time()-start))"
   ]
  },
  {
   "cell_type": "code",
   "execution_count": 18,
   "metadata": {},
   "outputs": [
    {
     "name": "stdout",
     "output_type": "stream",
     "text": [
      "thread MainThread is running...\n",
      "thread LoopThread is running...\n",
      "thread LoopThread >>> 1\n",
      "thread LoopThread >>> 2\n",
      "thread LoopThread >>> 3\n",
      "thread LoopThread >>> 4\n",
      "thread LoopThread >>> 5\n",
      "thread LoopThread ended.\n",
      "thread MainThread ended.\n"
     ]
    }
   ],
   "source": [
    "import time, threading\n",
    "\n",
    "def loop():\n",
    "    print(\"thread %s is running...\" % threading.current_thread().name)\n",
    "    n = 0\n",
    "    while n < 5:\n",
    "        n = n + 1\n",
    "        print('thread %s >>> %s' % (threading.current_thread().name, n))\n",
    "        time.sleep(1)\n",
    "    print(\"thread %s ended.\" % threading.current_thread().name)\n",
    "\n",
    "print(\"thread %s is running...\" % threading.current_thread().name)\n",
    "t = threading.Thread(target = loop, name = 'LoopThread')\n",
    "t.start()\n",
    "t.join()\n",
    "print(\"thread %s ended.\" % threading.current_thread().name)"
   ]
  }
 ],
 "metadata": {
  "kernelspec": {
   "display_name": "Python 3.8.13 ('pfx-dgl')",
   "language": "python",
   "name": "python3"
  },
  "language_info": {
   "codemirror_mode": {
    "name": "ipython",
    "version": 3
   },
   "file_extension": ".py",
   "mimetype": "text/x-python",
   "name": "python",
   "nbconvert_exporter": "python",
   "pygments_lexer": "ipython3",
   "version": "3.8.13"
  },
  "orig_nbformat": 4,
  "vscode": {
   "interpreter": {
    "hash": "4049ae82df3402959629fe32d1e9e01e48f800fd2053430392cc22e4f79452bc"
   }
  }
 },
 "nbformat": 4,
 "nbformat_minor": 2
}
